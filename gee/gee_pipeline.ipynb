{
 "cells": [
  {
   "cell_type": "code",
   "execution_count": 2,
   "metadata": {},
   "outputs": [],
   "source": [
    "%load_ext autoreload\n",
    "%autoreload 2"
   ]
  },
  {
   "cell_type": "code",
   "execution_count": 3,
   "metadata": {},
   "outputs": [],
   "source": [
    "from datetime import datetime\n",
    "import os\n",
    "import geopandas as gpd\n",
    "import keras\n",
    "import gee\n",
    "import utils\n"
   ]
  },
  {
   "cell_type": "code",
   "execution_count": 4,
   "metadata": {},
   "outputs": [
    {
     "name": "stdout",
     "output_type": "stream",
     "text": [
      "Created 64 tiles\n"
     ]
    },
    {
     "name": "stderr",
     "output_type": "stream",
     "text": [
      "2024-07-12 13:00:31.836215: I metal_plugin/src/device/metal_device.cc:1154] Metal device set to: Apple M2\n",
      "2024-07-12 13:00:31.836255: I metal_plugin/src/device/metal_device.cc:296] systemMemory: 16.00 GB\n",
      "2024-07-12 13:00:31.836304: I metal_plugin/src/device/metal_device.cc:313] maxCacheSize: 5.33 GB\n",
      "2024-07-12 13:00:31.836361: I tensorflow/core/common_runtime/pluggable_device/pluggable_device_factory.cc:306] Could not identify NUMA node of platform GPU ID 0, defaulting to 0. Your kernel may not have been built with NUMA support.\n",
      "2024-07-12 13:00:31.836387: I tensorflow/core/common_runtime/pluggable_device/pluggable_device_factory.cc:272] Created TensorFlow device (/job:localhost/replica:0/task:0/device:GPU:0 with 0 MB memory) -> physical PluggableDevice (device: 0, name: METAL, pci bus id: <undefined>)\n"
     ]
    }
   ],
   "source": [
    "#region_name = 'pang_war_myanmar'\n",
    "region_name = 'myanmar_mines_2'\n",
    "#region_name = 'test_region_small'\n",
    "\n",
    "sensor='NICFI'\n",
    "tile_size = 576 # this is the around the max size that GEE exports allow with 12-band imagery\n",
    "tile_padding = 48\n",
    "patchsize=48\n",
    "\n",
    "if sensor=='NICFI':\n",
    "    resolution = 4.77\n",
    "else:\n",
    "    resolution = 10\n",
    "\n",
    "start_date = datetime(2024, 3, 1)\n",
    "end_date = datetime(2024, 7, 1)\n",
    "clear_threshold = 0.6\n",
    "\n",
    "\n",
    "region = gpd.read_file(f'../data/boundaries/{region_name}.geojson').geometry[0].__geo_interface__\n",
    "tiles = utils.create_tiles(region, tile_size, tile_padding, resolution)\n",
    "print(f\"Created {len(tiles):,} tiles\")\n",
    "\n",
    "#model_name = '48px_v4.0_ensemble_2024-06-14'\n",
    "#model_name = '24px_v4.0_ensemble_2024-06-17'\n",
    "#model_name = '48px_v4.1_ensemble_2024-06-28' # nicfi \n",
    "model_name = f'{sensor}_{patchsize}px_v4.1_ensemble_2024-07-12'\n",
    "\n",
    "model = keras.models.load_model(f'../models/{model_name}.h5', compile=False)"
   ]
  },
  {
   "cell_type": "code",
   "execution_count": 5,
   "metadata": {},
   "outputs": [
    {
     "name": "stderr",
     "output_type": "stream",
     "text": [
      "  0%|          | 0/7 [00:00<?, ?it/s]2024-07-12 13:00:44.592379: I tensorflow/core/grappler/optimizers/custom_graph_optimizer_registry.cc:117] Plugin optimizer for device_type GPU is enabled.\n",
      " 14%|█▍        | 1/7 [00:15<01:31, 15.30s/it]"
     ]
    },
    {
     "name": "stdout",
     "output_type": "stream",
     "text": [
      "Found 2 positives.\n"
     ]
    },
    {
     "name": "stderr",
     "output_type": "stream",
     "text": [
      " 29%|██▊       | 2/7 [00:30<01:15, 15.05s/it]"
     ]
    },
    {
     "name": "stdout",
     "output_type": "stream",
     "text": [
      "Found 3 positives.\n"
     ]
    },
    {
     "name": "stderr",
     "output_type": "stream",
     "text": [
      " 43%|████▎     | 3/7 [00:54<01:16, 19.18s/it]"
     ]
    },
    {
     "name": "stdout",
     "output_type": "stream",
     "text": [
      "Found 7 positives.\n"
     ]
    },
    {
     "name": "stderr",
     "output_type": "stream",
     "text": [
      " 57%|█████▋    | 4/7 [01:09<00:53, 17.80s/it]"
     ]
    },
    {
     "name": "stdout",
     "output_type": "stream",
     "text": [
      "Found 9 positives.\n"
     ]
    },
    {
     "name": "stderr",
     "output_type": "stream",
     "text": [
      " 71%|███████▏  | 5/7 [01:27<00:35, 17.78s/it]"
     ]
    },
    {
     "name": "stdout",
     "output_type": "stream",
     "text": [
      "Found 11 positives.\n"
     ]
    },
    {
     "name": "stderr",
     "output_type": "stream",
     "text": [
      " 86%|████████▌ | 6/7 [01:46<00:18, 18.17s/it]"
     ]
    },
    {
     "name": "stdout",
     "output_type": "stream",
     "text": [
      "Found 17 positives.\n"
     ]
    },
    {
     "name": "stderr",
     "output_type": "stream",
     "text": [
      "100%|██████████| 7/7 [01:58<00:00, 16.99s/it]\n"
     ]
    },
    {
     "name": "stdout",
     "output_type": "stream",
     "text": [
      "Found 17 positives.\n"
     ]
    },
    {
     "name": "stderr",
     "output_type": "stream",
     "text": [
      "0it [00:00, ?it/s]\n",
      "0it [00:00, ?it/s]\n",
      "0it [00:00, ?it/s]\n",
      "0it [00:00, ?it/s]\n"
     ]
    }
   ],
   "source": [
    "import gee\n",
    "\n",
    "pred_threshold = 0.65\n",
    "\n",
    "data_pipeline = gee.Data_Extractor(\n",
    "    tiles, \n",
    "    start_date, \n",
    "    end_date,  \n",
    "    clear_threshold, \n",
    "    10,\n",
    "    sensor\n",
    "    )\n",
    "#data_pipeline.composite\n",
    "predictions=data_pipeline.make_predictions(model, pred_threshold=pred_threshold, tries=5)\n"
   ]
  },
  {
   "cell_type": "code",
   "execution_count": 6,
   "metadata": {},
   "outputs": [
    {
     "data": {
      "application/vnd.jupyter.widget-view+json": {
       "model_id": "cca5bd2da56747eca443136c382c271c",
       "version_major": 2,
       "version_minor": 0
      },
      "text/plain": [
       "Map(center=[21.43527959845305, 100.41561978170054], controls=(WidgetControl(options=['position', 'transparent_…"
      ]
     },
     "metadata": {},
     "output_type": "display_data"
    }
   ],
   "source": [
    "import plotly.express as px\n",
    "import geemap\n",
    "import ee\n",
    "\n",
    "predictions['lat'] = predictions['geometry'].apply(lambda x: x.centroid.y)\n",
    "predictions['lon'] = predictions['geometry'].apply(lambda x: x.centroid.x)\n",
    "\n",
    "#convert predictions to feature collection\n",
    "\n",
    "gdf = gpd.GeoDataFrame(predictions, geometry=gpd.points_from_xy(predictions.lon, predictions.lat))\n",
    "fc = geemap.geopandas_to_ee(predictions)\n",
    "center=[predictions['lat'].mean(), predictions['lon'].mean()]\n",
    "#satellite basemap\n",
    "nicfi = ee.ImageCollection('projects/planet-nicfi/assets/basemaps/asia')\n",
    "nicfi=nicfi.filterDate(start_date, end_date).median()\n",
    "nicfi=nicfi.visualize(min=0, max=2000, bands=['R', 'G', 'B'])\n",
    "\n",
    "Map = geemap.Map(center=center, zoom=10, add_google_map=False)\n",
    "Map.addLayer(nicfi, {}, 'NICFI')\n",
    "Map.addLayer(fc, {'color':'red'}, 'Predictions')\n",
    "\n",
    "Map"
   ]
  },
  {
   "cell_type": "code",
   "execution_count": 96,
   "metadata": {},
   "outputs": [
    {
     "name": "stdout",
     "output_type": "stream",
     "text": [
      "1677 chips with predictions above 0.85\n"
     ]
    }
   ],
   "source": [
    "# write the predictions to a file\n",
    "print(len(predictions), 'chips with predictions above', pred_threshold)\n",
    "# write the predictions to a file\n",
    "model_version_name = '_'.join(model_name.split('_')[0:2])\n",
    "# if the outputs directory does not exist, create it\n",
    "if not os.path.exists(f'../data/outputs/{model_version_name}'):\n",
    "    os.makedirs(f'../data/outputs/{model_version_name}')\n",
    "time_period = f\"{start_date.month}_{start_date.year}-{end_date.month}_{end_date.year}\"\n",
    "predictions.to_file(f\"../data/outputs/{model_version_name}/{region_name}_{model_version_name}_{pred_threshold:.2f}_{time_period}.geojson\", driver=\"GeoJSON\")"
   ]
  }
 ],
 "metadata": {
  "kernelspec": {
   "display_name": "sat",
   "language": "python",
   "name": "python3"
  },
  "language_info": {
   "codemirror_mode": {
    "name": "ipython",
    "version": 3
   },
   "file_extension": ".py",
   "mimetype": "text/x-python",
   "name": "python",
   "nbconvert_exporter": "python",
   "pygments_lexer": "ipython3",
   "version": "3.9.18"
  }
 },
 "nbformat": 4,
 "nbformat_minor": 2
}
